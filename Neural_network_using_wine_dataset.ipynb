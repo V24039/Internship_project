{
  "nbformat": 4,
  "nbformat_minor": 0,
  "metadata": {
    "colab": {
      "name": "Neural network using wine dataset.ipynb",
      "provenance": [],
      "collapsed_sections": [],
      "include_colab_link": true
    },
    "kernelspec": {
      "name": "python3",
      "display_name": "Python 3"
    }
  },
  "cells": [
    {
      "cell_type": "markdown",
      "metadata": {
        "id": "view-in-github",
        "colab_type": "text"
      },
      "source": [
        "<a href=\"https://colab.research.google.com/github/V24039/Neural_Network_wine_dataset/blob/master/Neural_network_using_wine_dataset.ipynb\" target=\"_parent\"><img src=\"https://colab.research.google.com/assets/colab-badge.svg\" alt=\"Open In Colab\"/></a>"
      ]
    },
    {
      "cell_type": "code",
      "metadata": {
        "id": "HuNoKh5M2vwo",
        "colab_type": "code",
        "colab": {}
      },
      "source": [
        "import numpy as np\n",
        "import pandas as pd\n",
        "from sklearn.model_selection import train_test_split\n",
        "from sklearn.datasets import load_wine\n",
        "from tqdm import tqdm_notebook\n",
        "import matplotlib.pyplot as plt\n",
        "%matplotlib inline"
      ],
      "execution_count": null,
      "outputs": []
    },
    {
      "cell_type": "code",
      "metadata": {
        "id": "iO-sh2cV4cMJ",
        "colab_type": "code",
        "colab": {}
      },
      "source": [
        "def sigmoid(x):\n",
        "    return 1 / (1 + np.exp(-x))\n",
        "\n",
        "def dsigmoid(x):\n",
        "    return x * (1-x)\n",
        "\n",
        "def relu(x):\n",
        "     return abs(x) * (x > 0)\n",
        "\n",
        "def drelu(x):\n",
        "     return 1. * (x > 0.)\n",
        "\n",
        "def lrelu(x):\n",
        "    return np.where(x > 0., x, x * 0.01)\n",
        "\n",
        "def dlrelu(x):\n",
        "    dx = np.ones_like(x)\n",
        "    dx[x < 0.] = 0.01\n",
        "    return dx\n",
        "\n",
        "def tanh(x):\n",
        "    return np.tanh(x)\n",
        "\n",
        "def dtanh(x):\n",
        "    return 1.0 - (np.power(np.tanh(x),2))"
      ],
      "execution_count": null,
      "outputs": []
    },
    {
      "cell_type": "code",
      "metadata": {
        "id": "LrcT5o7B5I0y",
        "colab_type": "code",
        "colab": {}
      },
      "source": [
        "def feed_forward(data_in, w0,w1,w2,w3,b):\n",
        "  layer0 = data_in\n",
        "  layer1 = relu(np.dot(layer0,w0))\n",
        "  layer2 = relu(np.dot(layer1,w1))\n",
        "  layer3 = relu(np.dot(layer2,w2))\n",
        "  layer4 = np.dot(layer3, w3) +b\n",
        "\n",
        "  return layer0,layer1,layer2,layer3,layer4"
      ],
      "execution_count": null,
      "outputs": []
    },
    {
      "cell_type": "code",
      "metadata": {
        "id": "C6y9Wiji9xod",
        "colab_type": "code",
        "colab": {}
      },
      "source": [
        "def accuracy(xtest,ytest):\n",
        "  correct=0\n",
        "  layer0,layer1,layer2,layer3,layer4=feed_forward(xtest,w0,w1,w2,w3,b)\n",
        "  for i in range(len(xtest)):\n",
        "    if np.argmax(layer4[i])==np.argmax(ytest[i]):\n",
        "      correct+=1\n",
        "  return f\"Accuracy: {(correct*100)/len(ytest)}\""
      ],
      "execution_count": null,
      "outputs": []
    },
    {
      "cell_type": "code",
      "metadata": {
        "id": "as-j_RMA_PHz",
        "colab_type": "code",
        "colab": {}
      },
      "source": [
        "def backpropogate(i, layer0, layer1, layer2, layer3, layer4, actual_y, w0,w1,w2,w3, b, learning_rate):\n",
        "\n",
        "    op_delta = layer4 - actual_y\n",
        "    dh4 = np.dot(layer3.T, op_delta)\n",
        "    \n",
        "    l3_error = op_delta.dot(w3.T)\n",
        "    l3_delta = l3_error * drelu(layer3)\n",
        "    dh3 = np.dot(layer2.T, l3_delta)\n",
        "    \n",
        "    l2_error = l3_delta.dot(w2.T)\n",
        "    l2_delta = l2_error * drelu(layer2)\n",
        "    dh2 = np.dot(layer1.T, l2_delta)\n",
        "    \n",
        "    l1_error = l2_delta.dot(w1.T)\n",
        "    l1_delta = l1_error * drelu(layer1)\n",
        "    dh1 = np.dot(layer0.T, l1_delta)\n",
        "    \n",
        "    w3 = w3 - (learning_rate * dh4)\n",
        "    w2 = w2 - (learning_rate * dh3)\n",
        "    w1 = w1 - (learning_rate * dh2)\n",
        "    w0 = w0 - (learning_rate * dh1)\n",
        "    b = b - (learning_rate * np.mean(op_delta))\n",
        "\n",
        "    if i%50==0 and (i!=0):\n",
        "        loss = np.mean(np.power(layer4-actual_y, 2))\n",
        "        loss_curve.append(loss)\n",
        "        iters.append(int(i))\n",
        "        \n",
        "        if i%1000 == 0:\n",
        "            print(\"\\n\", int(i), loss)\n",
        "        \n",
        "    return w0, w1,w2,w3,b"
      ],
      "execution_count": null,
      "outputs": []
    },
    {
      "cell_type": "code",
      "metadata": {
        "id": "mbPgwTKNAxsj",
        "colab_type": "code",
        "colab": {
          "base_uri": "https://localhost:8080/",
          "height": 134
        },
        "outputId": "6b34005b-8e5e-4a6b-e274-cca534e7a863"
      },
      "source": [
        "wine=load_wine()\n",
        "d = pd.DataFrame(wine.data,columns=wine.feature_names)\n",
        "\n",
        "d = (d-d.min())/ (d.max()- d.min())\n",
        "x = np.array(d.iloc[:,:-1])\n",
        "y = np.array(d.iloc[:,-1])\n",
        "y = y.reshape(len(y), 1)\n",
        "xtrain,xtest,ytrain,ytest = train_test_split(x,y,test_size=0.3)\n",
        "print(xtrain)#,'\\n\\n',xtest,'\\n\\n',ytrain,'\\n\\n',ytest)"
      ],
      "execution_count": null,
      "outputs": [
        {
          "output_type": "stream",
          "text": [
            "[[0.66578947 0.1916996  0.50802139 ... 0.41382253 0.38211382 0.77289377]\n",
            " [0.69736842 0.21541502 0.53475936 ... 0.21843003 0.6097561  0.58608059]\n",
            " [0.54736842 0.05335968 0.18181818 ... 0.34300341 0.5203252  0.6996337 ]\n",
            " ...\n",
            " [0.33157895 0.13241107 0.3315508  ... 0.13822526 0.6097561  0.53846154]\n",
            " [0.5        0.40909091 0.71657754 ... 0.28327645 0.23577236 0.38095238]\n",
            " [0.56052632 0.55928854 0.42245989 ... 0.23208191 0.09756098 0.15018315]]\n"
          ],
          "name": "stdout"
        }
      ]
    },
    {
      "cell_type": "code",
      "metadata": {
        "id": "GnQA025UEd9A",
        "colab_type": "code",
        "colab": {}
      },
      "source": [
        "w0 = np.random.random((12,50))\n",
        "w1 = np.random.random((50,30))\n",
        "w2 = np.random.random((30,5))\n",
        "w3 = np.random.random((5,1))\n",
        "b = np.random.random((1,1))\n",
        "epochs = 10000"
      ],
      "execution_count": null,
      "outputs": []
    },
    {
      "cell_type": "code",
      "metadata": {
        "id": "WrK0t38YJrY3",
        "colab_type": "code",
        "colab": {}
      },
      "source": [
        "loss_curve = []\n",
        "iters = []"
      ],
      "execution_count": null,
      "outputs": []
    },
    {
      "cell_type": "code",
      "metadata": {
        "id": "lKhu6kFDJ0Gn",
        "colab_type": "code",
        "colab": {}
      },
      "source": [
        "for i in range(epochs):\n",
        "    layer0, layer1, layer2, layer3, layer4 = feed_forward(xtrain, w0,w1,w2,w3,b)\n",
        "    w0, w1,w2,w3,b = backpropogate(i,layer0, layer1, layer2, layer3, layer4, ytrain, w0,w1,w2,w3, b, 0.01 )"
      ],
      "execution_count": null,
      "outputs": []
    },
    {
      "cell_type": "code",
      "metadata": {
        "id": "GJmgxniNLEva",
        "colab_type": "code",
        "colab": {
          "base_uri": "https://localhost:8080/",
          "height": 34
        },
        "outputId": "15781077-3170-4e77-f232-2cc91e602773"
      },
      "source": [
        "layer0,layer1,layer2,layer3,layer4 = feed_forward(xtest,w0,w1,w2,w3,b)\n",
        "loss = np.mean(np.power(layer4-ytest,2))\n",
        "loss"
      ],
      "execution_count": null,
      "outputs": [
        {
          "output_type": "execute_result",
          "data": {
            "text/plain": [
              "0.059808908039512464"
            ]
          },
          "metadata": {
            "tags": []
          },
          "execution_count": 66
        }
      ]
    },
    {
      "cell_type": "code",
      "metadata": {
        "id": "9bvJAP4p-muX",
        "colab_type": "code",
        "colab": {
          "base_uri": "https://localhost:8080/",
          "height": 34
        },
        "outputId": "65d9ab21-ec11-4422-d755-c2cc3280bec3"
      },
      "source": [
        "acc=accuracy(xtest,layer4)\n",
        "print(acc)"
      ],
      "execution_count": null,
      "outputs": [
        {
          "output_type": "stream",
          "text": [
            "Accuracy: 43.54838709677419\n"
          ],
          "name": "stdout"
        }
      ]
    },
    {
      "cell_type": "code",
      "metadata": {
        "id": "THUs9PClNp08",
        "colab_type": "code",
        "colab": {
          "base_uri": "https://localhost:8080/",
          "height": 282
        },
        "outputId": "77b0daa1-33a0-43c8-d9f8-d8f47ba24bcb"
      },
      "source": [
        "plt.plot(iters,loss_curve, 'g-')"
      ],
      "execution_count": null,
      "outputs": [
        {
          "output_type": "execute_result",
          "data": {
            "text/plain": [
              "[<matplotlib.lines.Line2D at 0x7f07869c9d30>]"
            ]
          },
          "metadata": {
            "tags": []
          },
          "execution_count": 88
        },
        {
          "output_type": "display_data",
          "data": {
            "image/png": "[encoded data removed]",
            "text/plain": [
              "<Figure size 432x288 with 1 Axes>"
            ]
          },
          "metadata": {
            "tags": [],
            "needs_background": "light"
          }
        }
      ]
    }
  ]
}